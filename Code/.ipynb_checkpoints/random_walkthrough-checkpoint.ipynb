{
 "cells": [
  {
   "cell_type": "code",
   "execution_count": 1,
   "id": "40206516",
   "metadata": {},
   "outputs": [],
   "source": [
    "# Initial imports\n",
    "import numpy as np\n",
    "import random\n",
    "import os\n",
    "import requests\n",
    "import pandas as pd\n",
    "from dotenv import load_dotenv\n",
    "import alpaca_trade_api as tradeapi\n",
    "#from MCForecastTools import MCSimulation\n",
    "import datetime\n",
    "from pandas.tseries.holiday import USFederalHolidayCalendar as calendar\n",
    "%matplotlib inline\n",
    "import yfinance as yf\n",
    "from pathlib import Path"
   ]
  },
  {
   "cell_type": "code",
   "execution_count": 2,
   "id": "00b648ef",
   "metadata": {},
   "outputs": [],
   "source": [
    "#function to extract stock data from yahoo finance\n",
    "def yahoo_finance(ticker_lst):\n",
    "    port_df = yf.download(ticker, start='2000-01-01', end='2019-12-31',interval = '1mo')\n",
    "    port_df.sort_values(by='Date', ascending=False)\n",
    "    return port_df"
   ]
  },
  {
   "cell_type": "code",
   "execution_count": 3,
   "id": "0645483b",
   "metadata": {},
   "outputs": [
    {
     "data": {
      "text/html": [
       "<div>\n",
       "<style scoped>\n",
       "    .dataframe tbody tr th:only-of-type {\n",
       "        vertical-align: middle;\n",
       "    }\n",
       "\n",
       "    .dataframe tbody tr th {\n",
       "        vertical-align: top;\n",
       "    }\n",
       "\n",
       "    .dataframe thead th {\n",
       "        text-align: right;\n",
       "    }\n",
       "</style>\n",
       "<table border=\"1\" class=\"dataframe\">\n",
       "  <thead>\n",
       "    <tr style=\"text-align: right;\">\n",
       "      <th></th>\n",
       "      <th>id</th>\n",
       "      <th>ticker</th>\n",
       "      <th>name</th>\n",
       "      <th>date_added_first</th>\n",
       "    </tr>\n",
       "  </thead>\n",
       "  <tbody>\n",
       "    <tr>\n",
       "      <th>0</th>\n",
       "      <td>0</td>\n",
       "      <td>MMM</td>\n",
       "      <td>3M</td>\n",
       "      <td>1976-08-09</td>\n",
       "    </tr>\n",
       "    <tr>\n",
       "      <th>1</th>\n",
       "      <td>1</td>\n",
       "      <td>ABT</td>\n",
       "      <td>Abbott Laboratories</td>\n",
       "      <td>1964-03-31</td>\n",
       "    </tr>\n",
       "    <tr>\n",
       "      <th>2</th>\n",
       "      <td>2</td>\n",
       "      <td>ABBV</td>\n",
       "      <td>AbbVie</td>\n",
       "      <td>2012-12-31</td>\n",
       "    </tr>\n",
       "    <tr>\n",
       "      <th>3</th>\n",
       "      <td>3</td>\n",
       "      <td>ABMD</td>\n",
       "      <td>Abiomed</td>\n",
       "      <td>2018-05-31</td>\n",
       "    </tr>\n",
       "    <tr>\n",
       "      <th>4</th>\n",
       "      <td>4</td>\n",
       "      <td>ACN</td>\n",
       "      <td>Accenture</td>\n",
       "      <td>2011-07-06</td>\n",
       "    </tr>\n",
       "    <tr>\n",
       "      <th>...</th>\n",
       "      <td>...</td>\n",
       "      <td>...</td>\n",
       "      <td>...</td>\n",
       "      <td>...</td>\n",
       "    </tr>\n",
       "    <tr>\n",
       "      <th>498</th>\n",
       "      <td>500</td>\n",
       "      <td>YUM</td>\n",
       "      <td>Yum! Brands</td>\n",
       "      <td>1997-10-06</td>\n",
       "    </tr>\n",
       "    <tr>\n",
       "      <th>499</th>\n",
       "      <td>501</td>\n",
       "      <td>ZBRA</td>\n",
       "      <td>Zebra Technologies</td>\n",
       "      <td>2019-12-23</td>\n",
       "    </tr>\n",
       "    <tr>\n",
       "      <th>500</th>\n",
       "      <td>502</td>\n",
       "      <td>ZBH</td>\n",
       "      <td>Zimmer Biomet</td>\n",
       "      <td>2001-08-07</td>\n",
       "    </tr>\n",
       "    <tr>\n",
       "      <th>501</th>\n",
       "      <td>503</td>\n",
       "      <td>ZION</td>\n",
       "      <td>Zions Bancorp</td>\n",
       "      <td>2001-06-22</td>\n",
       "    </tr>\n",
       "    <tr>\n",
       "      <th>502</th>\n",
       "      <td>504</td>\n",
       "      <td>ZTS</td>\n",
       "      <td>Zoetis</td>\n",
       "      <td>2013-06-21</td>\n",
       "    </tr>\n",
       "  </tbody>\n",
       "</table>\n",
       "<p>503 rows × 4 columns</p>\n",
       "</div>"
      ],
      "text/plain": [
       "      id ticker                 name date_added_first\n",
       "0      0    MMM                   3M       1976-08-09\n",
       "1      1    ABT  Abbott Laboratories       1964-03-31\n",
       "2      2   ABBV               AbbVie       2012-12-31\n",
       "3      3   ABMD              Abiomed       2018-05-31\n",
       "4      4    ACN            Accenture       2011-07-06\n",
       "..   ...    ...                  ...              ...\n",
       "498  500    YUM          Yum! Brands       1997-10-06\n",
       "499  501   ZBRA   Zebra Technologies       2019-12-23\n",
       "500  502    ZBH        Zimmer Biomet       2001-08-07\n",
       "501  503   ZION        Zions Bancorp       2001-06-22\n",
       "502  504    ZTS               Zoetis       2013-06-21\n",
       "\n",
       "[503 rows x 4 columns]"
      ]
     },
     "execution_count": 3,
     "metadata": {},
     "output_type": "execute_result"
    }
   ],
   "source": [
    "# There are 2 tables on the Wikipedia page\n",
    "# we want the first table\n",
    "filepath = os.path.join(\"..\\Data\", \"sp500.csv\")\n",
    "#load sp500 data from the csv file\n",
    "dataload=pd.read_csv(Path(filepath),infer_datetime_format=True, parse_dates=True, encoding='cp1252')\n",
    "#drop any NaN values\n",
    "dataload.dropna(inplace=True)  \n",
    "dataload"
   ]
  },
  {
   "cell_type": "code",
   "execution_count": 4,
   "id": "72120850",
   "metadata": {},
   "outputs": [],
   "source": [
    "#Drop all columns except Symbol and Date_first_added\n",
    "dataload.drop(['id', 'name'], axis = 1, inplace = True)\n",
    "dataload.rename(columns={\"date_added_first\":\"Date_first_added\"}, inplace = True)\n",
    "#reset the index\n",
    "dataload = dataload.reset_index()\n",
    "dataload.drop(['index'], axis=1, inplace=True)"
   ]
  },
  {
   "cell_type": "code",
   "execution_count": 5,
   "id": "c6f8ba72",
   "metadata": {},
   "outputs": [
    {
     "name": "stderr",
     "output_type": "stream",
     "text": [
      "C:\\Users\\harne\\AppData\\Local\\Temp/ipykernel_23172/1526309115.py:8: UserWarning: Boolean Series key will be reindexed to match DataFrame index.\n",
      "  added_b4_2000 = added_after_1995[pd.to_datetime(dataload['Date_first_added']) < latest_list_date]\n",
      "C:\\Users\\harne\\anaconda3\\lib\\site-packages\\pandas\\util\\_decorators.py:311: SettingWithCopyWarning: \n",
      "A value is trying to be set on a copy of a slice from a DataFrame\n",
      "\n",
      "See the caveats in the documentation: https://pandas.pydata.org/pandas-docs/stable/user_guide/indexing.html#returning-a-view-versus-a-copy\n",
      "  return func(*args, **kwargs)\n"
     ]
    },
    {
     "data": {
      "text/plain": [
       "(161, 3)"
      ]
     },
     "execution_count": 5,
     "metadata": {},
     "output_type": "execute_result"
    }
   ],
   "source": [
    "#df.columns\n",
    "earliest_list_date = pd.to_datetime('1901-01-01')\n",
    "latest_list_date = pd.to_datetime('2000-01-01')\n",
    "\n",
    "dataload.Date_first_added = dataload.Date_first_added.str[0:10]\n",
    "\n",
    "added_after_1995 = dataload[pd.to_datetime(dataload['Date_first_added']) >= earliest_list_date ]\n",
    "added_b4_2000 = added_after_1995[pd.to_datetime(dataload['Date_first_added']) < latest_list_date]\n",
    "added_b4_2000.reset_index(inplace=True)\n",
    "added_b4_2000.sort_values(by='Date_first_added',inplace =True)\n",
    "added_b4_2000.shape"
   ]
  },
  {
   "cell_type": "code",
   "execution_count": 6,
   "id": "64aceb36",
   "metadata": {},
   "outputs": [
    {
     "data": {
      "text/html": [
       "<div>\n",
       "<style scoped>\n",
       "    .dataframe tbody tr th:only-of-type {\n",
       "        vertical-align: middle;\n",
       "    }\n",
       "\n",
       "    .dataframe tbody tr th {\n",
       "        vertical-align: top;\n",
       "    }\n",
       "\n",
       "    .dataframe thead th {\n",
       "        text-align: right;\n",
       "    }\n",
       "</style>\n",
       "<table border=\"1\" class=\"dataframe\">\n",
       "  <thead>\n",
       "    <tr style=\"text-align: right;\">\n",
       "      <th></th>\n",
       "      <th>ticker</th>\n",
       "      <th>Date_first_added</th>\n",
       "    </tr>\n",
       "  </thead>\n",
       "  <tbody>\n",
       "    <tr>\n",
       "      <th>80</th>\n",
       "      <td>HSY</td>\n",
       "      <td>1957-03-04</td>\n",
       "    </tr>\n",
       "    <tr>\n",
       "      <th>97</th>\n",
       "      <td>KR</td>\n",
       "      <td>1957-03-04</td>\n",
       "    </tr>\n",
       "    <tr>\n",
       "      <th>32</th>\n",
       "      <td>BMY</td>\n",
       "      <td>1957-03-04</td>\n",
       "    </tr>\n",
       "    <tr>\n",
       "      <th>65</th>\n",
       "      <td>ETR</td>\n",
       "      <td>1957-03-04</td>\n",
       "    </tr>\n",
       "    <tr>\n",
       "      <th>96</th>\n",
       "      <td>KMB</td>\n",
       "      <td>1957-03-04</td>\n",
       "    </tr>\n",
       "    <tr>\n",
       "      <th>...</th>\n",
       "      <td>...</td>\n",
       "      <td>...</td>\n",
       "    </tr>\n",
       "    <tr>\n",
       "      <th>152</th>\n",
       "      <td>VMC</td>\n",
       "      <td>1999-06-30</td>\n",
       "    </tr>\n",
       "    <tr>\n",
       "      <th>13</th>\n",
       "      <td>ADI</td>\n",
       "      <td>1999-10-12</td>\n",
       "    </tr>\n",
       "    <tr>\n",
       "      <th>98</th>\n",
       "      <td>LEG</td>\n",
       "      <td>1999-10-14</td>\n",
       "    </tr>\n",
       "    <tr>\n",
       "      <th>159</th>\n",
       "      <td>XLNX</td>\n",
       "      <td>1999-11-08</td>\n",
       "    </tr>\n",
       "    <tr>\n",
       "      <th>45</th>\n",
       "      <td>CTXS</td>\n",
       "      <td>1999-12-01</td>\n",
       "    </tr>\n",
       "  </tbody>\n",
       "</table>\n",
       "<p>161 rows × 2 columns</p>\n",
       "</div>"
      ],
      "text/plain": [
       "    ticker Date_first_added\n",
       "80     HSY       1957-03-04\n",
       "97      KR       1957-03-04\n",
       "32     BMY       1957-03-04\n",
       "65     ETR       1957-03-04\n",
       "96     KMB       1957-03-04\n",
       "..     ...              ...\n",
       "152    VMC       1999-06-30\n",
       "13     ADI       1999-10-12\n",
       "98     LEG       1999-10-14\n",
       "159   XLNX       1999-11-08\n",
       "45    CTXS       1999-12-01\n",
       "\n",
       "[161 rows x 2 columns]"
      ]
     },
     "execution_count": 6,
     "metadata": {},
     "output_type": "execute_result"
    }
   ],
   "source": [
    "added_b4_2000 = added_b4_2000.drop(['index'], axis =1)\n",
    "added_b4_2000\n"
   ]
  },
  {
   "cell_type": "markdown",
   "id": "cb06a8a6",
   "metadata": {},
   "source": [
    "### in our testing randint gets lot of repeat tickers in the dataset so instead we are using sample() function\n",
    "\n",
    "#for i in range (0, urange):\n",
    "    #stock = added_b4_2000.iloc[random.randint(0, urange)].ticker\n",
    "    #stock_port.append(stock)\n",
    "#print(stock_port)\n"
   ]
  },
  {
   "cell_type": "code",
   "execution_count": 97,
   "id": "9fe63620",
   "metadata": {},
   "outputs": [
    {
     "name": "stdout",
     "output_type": "stream",
     "text": [
      "DUK IBM CI NOC ABT COP HAS DTE TJX LOW HES SLB LLY LUMN XOM NEM JPM IPG F BAX\n"
     ]
    }
   ],
   "source": [
    "#create a list of stock symbols that have been added to SP500 before 2000\n",
    "stock_port = []\n",
    "port_df = pd.DataFrame()\n",
    "  \n",
    "#set the number of random stocks to be picked if the user chooses to pick 10 stock portfolio\n",
    "#to be used in future customization\n",
    "on_click_10 = 10\n",
    "#set the number of random stocks to be picked if the user chooses to pick 20 stock portfolio\n",
    "#to be used in future customization\n",
    "on_click_20 = 20\n",
    "#set the number of random stocks to be picked if the user chooses to pick 30 stock portfolio\n",
    "#to be used in future customization\n",
    "on_click_30 = 30\n",
    "\n",
    "#picking random stock tickers using sample() function instead of random.rand.int\n",
    "random_df=added_b4_2000.sample(n=on_click_20)\n",
    "ticker_list = []\n",
    "for i in range(on_click_20):\n",
    "    ticker = random_df.iloc[i].ticker                    \n",
    "    ticker_list.append(ticker)\n",
    "#print(test_list)\n",
    "ticker = \"\"\n",
    "ticker = ' '.join(ticker_list)\n",
    "print(ticker)\n"
   ]
  },
  {
   "cell_type": "code",
   "execution_count": 98,
   "id": "594e25ae",
   "metadata": {},
   "outputs": [
    {
     "name": "stdout",
     "output_type": "stream",
     "text": [
      "[*********************100%***********************]  20 of 20 completed\n"
     ]
    }
   ],
   "source": [
    "#calling the yfinance function to fetch data for the random list of tickers from sp500 dataset\n",
    "port_df = yahoo_finance(ticker)"
   ]
  },
  {
   "cell_type": "code",
   "execution_count": 99,
   "id": "19c02e99",
   "metadata": {},
   "outputs": [],
   "source": [
    "port_df.to_csv(r'.\\test.csv', sep=',', encoding='utf-8', header='true') \n",
    "port_df.dropna(inplace=True)\n",
    "#port_df['Adj Close'].head(4)"
   ]
  },
  {
   "cell_type": "code",
   "execution_count": 100,
   "id": "e1a8c6e5",
   "metadata": {},
   "outputs": [],
   "source": [
    "data = port_df['Adj Close']\n",
    "#data.head()"
   ]
  },
  {
   "cell_type": "code",
   "execution_count": 101,
   "id": "3c0eaa71",
   "metadata": {},
   "outputs": [
    {
     "name": "stderr",
     "output_type": "stream",
     "text": [
      "C:\\Users\\harne\\AppData\\Local\\Temp/ipykernel_23172/3600648895.py:5: SettingWithCopyWarning: \n",
      "A value is trying to be set on a copy of a slice from a DataFrame.\n",
      "Try using .loc[row_indexer,col_indexer] = value instead\n",
      "\n",
      "See the caveats in the documentation: https://pandas.pydata.org/pandas-docs/stable/user_guide/indexing.html#returning-a-view-versus-a-copy\n",
      "  data['monthly_avg'] = data.sum(axis=1)/on_click_20\n"
     ]
    },
    {
     "data": {
      "text/html": [
       "<div>\n",
       "<style scoped>\n",
       "    .dataframe tbody tr th:only-of-type {\n",
       "        vertical-align: middle;\n",
       "    }\n",
       "\n",
       "    .dataframe tbody tr th {\n",
       "        vertical-align: top;\n",
       "    }\n",
       "\n",
       "    .dataframe thead th {\n",
       "        text-align: right;\n",
       "    }\n",
       "</style>\n",
       "<table border=\"1\" class=\"dataframe\">\n",
       "  <thead>\n",
       "    <tr style=\"text-align: right;\">\n",
       "      <th></th>\n",
       "      <th>ABT</th>\n",
       "      <th>BAX</th>\n",
       "      <th>CI</th>\n",
       "      <th>COP</th>\n",
       "      <th>DTE</th>\n",
       "      <th>DUK</th>\n",
       "      <th>F</th>\n",
       "      <th>HAS</th>\n",
       "      <th>HES</th>\n",
       "      <th>IBM</th>\n",
       "      <th>...</th>\n",
       "      <th>JPM</th>\n",
       "      <th>LLY</th>\n",
       "      <th>LOW</th>\n",
       "      <th>LUMN</th>\n",
       "      <th>NEM</th>\n",
       "      <th>NOC</th>\n",
       "      <th>SLB</th>\n",
       "      <th>TJX</th>\n",
       "      <th>XOM</th>\n",
       "      <th>monthly_avg</th>\n",
       "    </tr>\n",
       "    <tr>\n",
       "      <th>Date</th>\n",
       "      <th></th>\n",
       "      <th></th>\n",
       "      <th></th>\n",
       "      <th></th>\n",
       "      <th></th>\n",
       "      <th></th>\n",
       "      <th></th>\n",
       "      <th></th>\n",
       "      <th></th>\n",
       "      <th></th>\n",
       "      <th></th>\n",
       "      <th></th>\n",
       "      <th></th>\n",
       "      <th></th>\n",
       "      <th></th>\n",
       "      <th></th>\n",
       "      <th></th>\n",
       "      <th></th>\n",
       "      <th></th>\n",
       "      <th></th>\n",
       "      <th></th>\n",
       "    </tr>\n",
       "  </thead>\n",
       "  <tbody>\n",
       "    <tr>\n",
       "      <th>2000-01-01</th>\n",
       "      <td>8.796127</td>\n",
       "      <td>11.390709</td>\n",
       "      <td>21.523808</td>\n",
       "      <td>7.972313</td>\n",
       "      <td>11.446991</td>\n",
       "      <td>18.298054</td>\n",
       "      <td>14.377996</td>\n",
       "      <td>9.054639</td>\n",
       "      <td>13.270261</td>\n",
       "      <td>68.961304</td>\n",
       "      <td>...</td>\n",
       "      <td>28.301895</td>\n",
       "      <td>34.640339</td>\n",
       "      <td>8.483909</td>\n",
       "      <td>12.089380</td>\n",
       "      <td>15.250112</td>\n",
       "      <td>14.233077</td>\n",
       "      <td>20.281557</td>\n",
       "      <td>1.598616</td>\n",
       "      <td>21.331184</td>\n",
       "      <td>18.663879</td>\n",
       "    </tr>\n",
       "    <tr>\n",
       "      <th>2000-02-01</th>\n",
       "      <td>8.958135</td>\n",
       "      <td>9.718886</td>\n",
       "      <td>22.142530</td>\n",
       "      <td>7.435953</td>\n",
       "      <td>9.944055</td>\n",
       "      <td>15.367195</td>\n",
       "      <td>12.151499</td>\n",
       "      <td>9.544313</td>\n",
       "      <td>12.615324</td>\n",
       "      <td>63.124916</td>\n",
       "      <td>...</td>\n",
       "      <td>28.087215</td>\n",
       "      <td>30.787819</td>\n",
       "      <td>9.095843</td>\n",
       "      <td>10.524408</td>\n",
       "      <td>16.559927</td>\n",
       "      <td>12.834545</td>\n",
       "      <td>24.531984</td>\n",
       "      <td>1.561867</td>\n",
       "      <td>19.384672</td>\n",
       "      <td>17.615302</td>\n",
       "    </tr>\n",
       "    <tr>\n",
       "      <th>2000-03-01</th>\n",
       "      <td>9.551950</td>\n",
       "      <td>11.178946</td>\n",
       "      <td>22.723745</td>\n",
       "      <td>9.101562</td>\n",
       "      <td>9.614645</td>\n",
       "      <td>16.807169</td>\n",
       "      <td>13.410439</td>\n",
       "      <td>10.112432</td>\n",
       "      <td>16.123905</td>\n",
       "      <td>72.800758</td>\n",
       "      <td>...</td>\n",
       "      <td>30.754848</td>\n",
       "      <td>32.574821</td>\n",
       "      <td>11.105248</td>\n",
       "      <td>11.619888</td>\n",
       "      <td>16.793831</td>\n",
       "      <td>15.126734</td>\n",
       "      <td>25.481071</td>\n",
       "      <td>2.178799</td>\n",
       "      <td>20.188946</td>\n",
       "      <td>19.507950</td>\n",
       "    </tr>\n",
       "  </tbody>\n",
       "</table>\n",
       "<p>3 rows × 21 columns</p>\n",
       "</div>"
      ],
      "text/plain": [
       "                 ABT        BAX         CI       COP        DTE        DUK  \\\n",
       "Date                                                                         \n",
       "2000-01-01  8.796127  11.390709  21.523808  7.972313  11.446991  18.298054   \n",
       "2000-02-01  8.958135   9.718886  22.142530  7.435953   9.944055  15.367195   \n",
       "2000-03-01  9.551950  11.178946  22.723745  9.101562   9.614645  16.807169   \n",
       "\n",
       "                    F        HAS        HES        IBM  ...        JPM  \\\n",
       "Date                                                    ...              \n",
       "2000-01-01  14.377996   9.054639  13.270261  68.961304  ...  28.301895   \n",
       "2000-02-01  12.151499   9.544313  12.615324  63.124916  ...  28.087215   \n",
       "2000-03-01  13.410439  10.112432  16.123905  72.800758  ...  30.754848   \n",
       "\n",
       "                  LLY        LOW       LUMN        NEM        NOC        SLB  \\\n",
       "Date                                                                           \n",
       "2000-01-01  34.640339   8.483909  12.089380  15.250112  14.233077  20.281557   \n",
       "2000-02-01  30.787819   9.095843  10.524408  16.559927  12.834545  24.531984   \n",
       "2000-03-01  32.574821  11.105248  11.619888  16.793831  15.126734  25.481071   \n",
       "\n",
       "                 TJX        XOM  monthly_avg  \n",
       "Date                                          \n",
       "2000-01-01  1.598616  21.331184    18.663879  \n",
       "2000-02-01  1.561867  19.384672    17.615302  \n",
       "2000-03-01  2.178799  20.188946    19.507950  \n",
       "\n",
       "[3 rows x 21 columns]"
      ]
     },
     "execution_count": 101,
     "metadata": {},
     "output_type": "execute_result"
    }
   ],
   "source": [
    "#try to find mean for each row\n",
    "#data.drop(['test'], axis=1, inplace=True)\n",
    "#data['monthly_avg'] =data.sum(axis=1)/on_click_20\n",
    "#returns = pd.DataFrame()\n",
    "data['monthly_avg'] = data.sum(axis=1)/on_click_20\n",
    "data.head(3)"
   ]
  },
  {
   "cell_type": "code",
   "execution_count": 102,
   "id": "8c663e4a",
   "metadata": {},
   "outputs": [
    {
     "name": "stdout",
     "output_type": "stream",
     "text": [
      "18.663878935575486\n"
     ]
    },
    {
     "name": "stderr",
     "output_type": "stream",
     "text": [
      "C:\\Users\\harne\\AppData\\Local\\Temp/ipykernel_23172/3068206137.py:5: SettingWithCopyWarning: \n",
      "A value is trying to be set on a copy of a slice from a DataFrame.\n",
      "Try using .loc[row_indexer,col_indexer] = value instead\n",
      "\n",
      "See the caveats in the documentation: https://pandas.pydata.org/pandas-docs/stable/user_guide/indexing.html#returning-a-view-versus-a-copy\n",
      "  data['monthly_value'] = num_of_shares * data.iloc[:,20]\n"
     ]
    },
    {
     "data": {
      "image/png": "[encoded data removed]",
      "text/plain": [
       "<Figure size 1080x720 with 1 Axes>"
      ]
     },
     "metadata": {
      "needs_background": "light"
     },
     "output_type": "display_data"
    }
   ],
   "source": [
    "#Value of $10000 invested \n",
    "initial_val =  data.iloc[0,20]\n",
    "num_of_shares = 10000 / initial_val\n",
    "print(initial_val)\n",
    "data['monthly_value'] = num_of_shares * data.iloc[:,20] \n",
    "rand_plot = data['monthly_value'].plot(figsize= (15,10))\n",
    "#data"
   ]
  },
  {
   "cell_type": "code",
   "execution_count": 89,
   "id": "77157e76",
   "metadata": {},
   "outputs": [
    {
     "name": "stdout",
     "output_type": "stream",
     "text": [
      "FLCSX\n",
      "[*********************100%***********************]  1 of 1 completed\n"
     ]
    },
    {
     "data": {
      "text/html": [
       "<div>\n",
       "<style scoped>\n",
       "    .dataframe tbody tr th:only-of-type {\n",
       "        vertical-align: middle;\n",
       "    }\n",
       "\n",
       "    .dataframe tbody tr th {\n",
       "        vertical-align: top;\n",
       "    }\n",
       "\n",
       "    .dataframe thead th {\n",
       "        text-align: right;\n",
       "    }\n",
       "</style>\n",
       "<table border=\"1\" class=\"dataframe\">\n",
       "  <thead>\n",
       "    <tr style=\"text-align: right;\">\n",
       "      <th></th>\n",
       "      <th>Open</th>\n",
       "      <th>High</th>\n",
       "      <th>Low</th>\n",
       "      <th>Close</th>\n",
       "      <th>Adj Close</th>\n",
       "      <th>Volume</th>\n",
       "    </tr>\n",
       "    <tr>\n",
       "      <th>Date</th>\n",
       "      <th></th>\n",
       "      <th></th>\n",
       "      <th></th>\n",
       "      <th></th>\n",
       "      <th></th>\n",
       "      <th></th>\n",
       "    </tr>\n",
       "  </thead>\n",
       "  <tbody>\n",
       "    <tr>\n",
       "      <th>2000-01-01</th>\n",
       "      <td>21.530001</td>\n",
       "      <td>21.959999</td>\n",
       "      <td>20.520000</td>\n",
       "      <td>20.870001</td>\n",
       "      <td>11.348763</td>\n",
       "      <td>0.0</td>\n",
       "    </tr>\n",
       "    <tr>\n",
       "      <th>2000-02-01</th>\n",
       "      <td>21.209999</td>\n",
       "      <td>22.270000</td>\n",
       "      <td>21.209999</td>\n",
       "      <td>22.120001</td>\n",
       "      <td>12.028492</td>\n",
       "      <td>0.0</td>\n",
       "    </tr>\n",
       "    <tr>\n",
       "      <th>2000-03-01</th>\n",
       "      <td>22.350000</td>\n",
       "      <td>23.469999</td>\n",
       "      <td>21.420000</td>\n",
       "      <td>22.480000</td>\n",
       "      <td>12.224251</td>\n",
       "      <td>0.0</td>\n",
       "    </tr>\n",
       "    <tr>\n",
       "      <th>2000-04-01</th>\n",
       "      <td>22.160000</td>\n",
       "      <td>22.670000</td>\n",
       "      <td>19.420000</td>\n",
       "      <td>21.309999</td>\n",
       "      <td>11.588027</td>\n",
       "      <td>0.0</td>\n",
       "    </tr>\n",
       "    <tr>\n",
       "      <th>2000-05-01</th>\n",
       "      <td>21.600000</td>\n",
       "      <td>21.600000</td>\n",
       "      <td>19.500000</td>\n",
       "      <td>20.450001</td>\n",
       "      <td>11.120372</td>\n",
       "      <td>0.0</td>\n",
       "    </tr>\n",
       "  </tbody>\n",
       "</table>\n",
       "</div>"
      ],
      "text/plain": [
       "                 Open       High        Low      Close  Adj Close  Volume\n",
       "Date                                                                     \n",
       "2000-01-01  21.530001  21.959999  20.520000  20.870001  11.348763     0.0\n",
       "2000-02-01  21.209999  22.270000  21.209999  22.120001  12.028492     0.0\n",
       "2000-03-01  22.350000  23.469999  21.420000  22.480000  12.224251     0.0\n",
       "2000-04-01  22.160000  22.670000  19.420000  21.309999  11.588027     0.0\n",
       "2000-05-01  21.600000  21.600000  19.500000  20.450001  11.120372     0.0"
      ]
     },
     "execution_count": 89,
     "metadata": {},
     "output_type": "execute_result"
    }
   ],
   "source": [
    "mg_list = ['FLCSX']\n",
    "#['TNWCX', 'SRFMX', 'PRCOX', 'HAIAX', 'WMLIX', 'DFUSX', 'VPMCX', 'PRBLX', 'DGAGX', 'TISCX', 'AFDAX', 'VDIGX', 'DFELX', 'BIRAX', 'DUSQX', 'MRGAX', 'DFEOX', 'BRLIX', 'VPCCX']\n",
    "ticker = \"\"\n",
    "ticker = ' '.join(mg_list)\n",
    "print(ticker)\n",
    "mg_fund_df = yahoo_finance(mg_list)\n",
    "mg_fund_df.head()"
   ]
  },
  {
   "cell_type": "code",
   "execution_count": 90,
   "id": "f4a5ce6d",
   "metadata": {},
   "outputs": [
    {
     "data": {
      "text/plain": [
       "<AxesSubplot:xlabel='Date'>"
      ]
     },
     "execution_count": 90,
     "metadata": {},
     "output_type": "execute_result"
    },
    {
     "data": {
      "image/png": "[encoded data removed]",
      "text/plain": [
       "<Figure size 1080x720 with 1 Axes>"
      ]
     },
     "metadata": {
      "needs_background": "light"
     },
     "output_type": "display_data"
    }
   ],
   "source": [
    "mg_fund_df['monthly_values'] = mg_fund_df['Adj Close'].sum()*10000\n",
    "mg_fund_df\n",
    "#Value of $10000 invested \n",
    "initial_val =  mg_fund_df['Adj Close'][0]\n",
    "num_of_shares = 10000 / initial_val\n",
    "mg_fund_df['monthly_value'] = num_of_shares * mg_fund_df['Adj Close'] \n",
    "mg_fund_df['monthly_value'].plot(figsize= (15,10))\n"
   ]
  },
  {
   "cell_type": "code",
   "execution_count": null,
   "id": "1fff24f1",
   "metadata": {},
   "outputs": [],
   "source": [
    "#clean_dataset.mean(axis=1).plot(kind='line', figsize=(15,10))\n",
    "clean_dataset1 = data.pct_change().dropna()\n",
    "clean_dataset2= (1+ clean_dataset1).cumprod()\n",
    "type(clean_dataset1)\n",
    "clean_dataset2.plot(figsize=(20,10))\n",
    "clean_dataset1.plot( figsize=(20,10))\n",
    "#clean_dataset1.hvplot(kind='line', figsize=(20,10),legend=True)"
   ]
  },
  {
   "cell_type": "code",
   "execution_count": null,
   "id": "4e544239",
   "metadata": {},
   "outputs": [],
   "source": []
  },
  {
   "cell_type": "code",
   "execution_count": null,
   "id": "1ffa732c",
   "metadata": {},
   "outputs": [],
   "source": [
    "clean_dataset.plot( figsize=(20,10))"
   ]
  },
  {
   "cell_type": "code",
   "execution_count": null,
   "id": "0615a9e8",
   "metadata": {},
   "outputs": [],
   "source": [
    "mgticker = 'FLCSX'\n",
    "mg_port_df = yf.download(mgticker, start='1993-02-01', end='2021-08-01')\n",
    "mg_port_df"
   ]
  },
  {
   "cell_type": "code",
   "execution_count": null,
   "id": "6ea6454f",
   "metadata": {},
   "outputs": [],
   "source": [
    "mg_port_df['Adj Close'].std().plot()\n",
    "mgclean_dataset.columns \n",
    "#mgclean_dataset['Adj Close'].std().plot()\n",
    "#mgclean_dataset_mean.plot()"
   ]
  },
  {
   "cell_type": "code",
   "execution_count": null,
   "id": "a73c45fb",
   "metadata": {},
   "outputs": [],
   "source": []
  }
 ],
 "metadata": {
  "kernelspec": {
   "display_name": "Python 3 (ipykernel)",
   "language": "python",
   "name": "python3"
  },
  "language_info": {
   "codemirror_mode": {
    "name": "ipython",
    "version": 3
   },
   "file_extension": ".py",
   "mimetype": "text/x-python",
   "name": "python",
   "nbconvert_exporter": "python",
   "pygments_lexer": "ipython3",
   "version": "3.8.8"
  }
 },
 "nbformat": 4,
 "nbformat_minor": 5
}
